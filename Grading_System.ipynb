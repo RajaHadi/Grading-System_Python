{
  "nbformat": 4,
  "nbformat_minor": 0,
  "metadata": {
    "colab": {
      "provenance": [],
      "authorship_tag": "ABX9TyOMYy+hSUn9mUmHPQur34qP",
      "include_colab_link": true
    },
    "kernelspec": {
      "name": "python3",
      "display_name": "Python 3"
    },
    "language_info": {
      "name": "python"
    }
  },
  "cells": [
    {
      "cell_type": "markdown",
      "metadata": {
        "id": "view-in-github",
        "colab_type": "text"
      },
      "source": [
        "<a href=\"https://colab.research.google.com/github/RajaHadi/Grading-System_Python/blob/main/Grading_System.ipynb\" target=\"_parent\"><img src=\"https://colab.research.google.com/assets/colab-badge.svg\" alt=\"Open In Colab\"/></a>"
      ]
    },
    {
      "cell_type": "markdown",
      "source": [
        "# ***Grading System***"
      ],
      "metadata": {
        "id": "v6O7spzoUBI_"
      }
    },
    {
      "cell_type": "code",
      "source": [
        "First_Sub=int(input(\"Enter Total Marks of First Subject =\"))\n",
        "Second_Sub=int(input(\"Enter Total Marks of Second Subject =\"))\n",
        "Third_Sub=int(input(\"Enter Total Marks of Third Subject =\"))\n",
        "Fourth_Sub=int(input(\"Enter Total Marks of Fourth Subject =\"))\n",
        "Fifth_Sub=int(input(\"Enter Total Marks of Fifth Subject =\"))\n",
        "Total_Marks=First_Sub+Second_Sub+Third_Sub+Fourth_Sub+Fifth_Sub\n",
        "Obt_1=int(input(\"Enter Obtained Marks of First Subject =\"))\n",
        "Obt_2=int(input(\"Enter Obtained Marks of Second Subject =\"))\n",
        "Obt_3=int(input(\"Enter Obtained Marks of Third Subject =\"))\n",
        "Obt_4=int(input(\"Enter Obtained Marks of Fourth Subject =\"))\n",
        "Obt_5=int(input(\"Enter Obtained Marks of Fifth Subject =\"))\n",
        "Obt_Marks=Obt_1+Obt_2+Obt_3+Obt_4+Obt_5\n",
        "Percentage=(Obt_Marks/Total_Marks)*100\n",
        "if Percentage >= 90:\n",
        "  print(\"The Student has got  A+ Grade\")\n",
        "elif Percentage >= 80:\n",
        "  print(\"The Student has got A Grade \")\n",
        "elif Percentage >= 70:\n",
        "  print(\"The Student has got B Grade\")\n",
        "elif Percentage >= 60:\n",
        "  print(\"The Student has got C Grade\")\n",
        "elif Percentage >= 50:\n",
        "  print(\"The Student has got D Grade\")\n"
      ],
      "metadata": {
        "id": "Z_EyUrbcS-7p"
      },
      "execution_count": null,
      "outputs": []
    },
    {
      "cell_type": "code",
      "source": [],
      "metadata": {
        "id": "IY1v-VnIT6r2"
      },
      "execution_count": null,
      "outputs": []
    }
  ]
}